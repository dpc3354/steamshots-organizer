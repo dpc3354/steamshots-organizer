{
 "cells": [
  {
   "cell_type": "code",
   "execution_count": 44,
   "metadata": {},
   "outputs": [],
   "source": [
    "import os\n",
    "import requests"
   ]
  },
  {
   "cell_type": "code",
   "execution_count": 45,
   "metadata": {},
   "outputs": [
    {
     "name": "stdout",
     "output_type": "stream",
     "text": [
      "C:\\Users\\fuzha\\Pictures\\Steam\n"
     ]
    }
   ],
   "source": [
    "os.chdir('C:\\\\Users\\\\fuzha\\\\Pictures\\\\Steam')\n",
    "print(os.getcwd())"
   ]
  },
  {
   "cell_type": "code",
   "execution_count": 46,
   "metadata": {},
   "outputs": [],
   "source": [
    "pics = os.listdir()"
   ]
  },
  {
   "cell_type": "code",
   "execution_count": 47,
   "metadata": {},
   "outputs": [],
   "source": [
    "app_ids = set()\n",
    "for i in range(0, len(pics)):\n",
    "    if (os.path.isfile(pics[i])):\n",
    "        app_ids.add(int(pics[i].split('_')[0]))"
   ]
  },
  {
   "cell_type": "code",
   "execution_count": 48,
   "metadata": {},
   "outputs": [],
   "source": [
    "get_app_list = requests.get('http://api.steampowered.com/ISteamApps/GetAppList/v2/')\n",
    "app_list = get_app_list.json()['applist']['apps']"
   ]
  },
  {
   "cell_type": "code",
   "execution_count": 50,
   "metadata": {},
   "outputs": [],
   "source": [
    "id2name = {}\n",
    "\n",
    "for i in range(0, len(app_list)):\n",
    "    if app_list[i]['appid'] in app_ids:\n",
    "        id2name[app_list[i]['appid']] = app_list[i]['name']"
   ]
  },
  {
   "cell_type": "code",
   "execution_count": null,
   "metadata": {},
   "outputs": [],
   "source": []
  }
 ],
 "metadata": {
  "interpreter": {
   "hash": "b9460862abca6458be9087199c900c93810c3b9799715480f31373e2b6bd1ebc"
  },
  "kernelspec": {
   "display_name": "Python 3.9.7 ('base')",
   "language": "python",
   "name": "python3"
  },
  "language_info": {
   "codemirror_mode": {
    "name": "ipython",
    "version": 3
   },
   "file_extension": ".py",
   "mimetype": "text/x-python",
   "name": "python",
   "nbconvert_exporter": "python",
   "pygments_lexer": "ipython3",
   "version": "3.9.7"
  },
  "orig_nbformat": 4
 },
 "nbformat": 4,
 "nbformat_minor": 2
}
